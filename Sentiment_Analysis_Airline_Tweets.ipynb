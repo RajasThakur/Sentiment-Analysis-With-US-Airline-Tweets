{
 "cells": [
  {
   "cell_type": "markdown",
   "metadata": {},
   "source": [
    "### Rajas Thakur - rxt190000"
   ]
  },
  {
   "cell_type": "markdown",
   "metadata": {
    "colab_type": "text",
    "id": "ymaO_4J8LKW4"
   },
   "source": [
    "### Acknowledgement\n",
    "Notebook inspired from following sources :\n",
    "1. https://www.analyticsvidhya.com/blog/2018/07/hands-on-sentiment-analysis-dataset-python/\n",
    "\n",
    "2. https://medium.com/towards-artificial-intelligence/emoticon-and-emoji-in-text-mining-7392c49f596a\n",
    "\n",
    "3. https://towardsdatascience.com/sentiment-analysis-with-text-mining-13dd2b33de27"
   ]
  },
  {
   "cell_type": "code",
   "execution_count": 6,
   "metadata": {
    "colab": {
     "base_uri": "https://localhost:8080/",
     "height": 34
    },
    "colab_type": "code",
    "id": "_7SRE-67gflV",
    "outputId": "914dc8e0-370e-467e-dcab-8ac5353002d7"
   },
   "outputs": [
    {
     "name": "stderr",
     "output_type": "stream",
     "text": [
      "'pwd' is not recognized as an internal or external command,\n",
      "operable program or batch file.\n"
     ]
    }
   ],
   "source": [
    "#Checking current directory\n",
    "!pwd"
   ]
  },
  {
   "cell_type": "code",
   "execution_count": 7,
   "metadata": {
    "colab": {},
    "colab_type": "code",
    "id": "sqK_P4nCgrAc"
   },
   "outputs": [],
   "source": [
    "import os\n",
    "os.chdir('/content/drive/My Drive/Colab Notebooks')"
   ]
  },
  {
   "cell_type": "code",
   "execution_count": 8,
   "metadata": {
    "colab": {},
    "colab_type": "code",
    "id": "PqIosC7bLHz5"
   },
   "outputs": [],
   "source": [
    "#Importing necessary libraries\n",
    "import nltk\n",
    "import spacy\n",
    "from nltk.tokenize import TreebankWordTokenizer\n",
    "from nltk.stem.porter import PorterStemmer\n",
    "from nltk.stem import WordNetLemmatizer\n",
    "from nltk.corpus import wordnet\n",
    "#from TokenizationTest import TokenizationTest\n",
    "#from happyfuntokenizing import Tokenizer as potts\n",
    "from sklearn.feature_extraction.text import CountVectorizer\n",
    "from sklearn import preprocessing\n",
    "from sklearn import linear_model\n",
    "import pandas as pd\n",
    "import regex as re\n",
    "import numpy as np"
   ]
  },
  {
   "cell_type": "code",
   "execution_count": 9,
   "metadata": {
    "colab": {},
    "colab_type": "code",
    "id": "6KbjOZ9BguPi"
   },
   "outputs": [],
   "source": [
    "train = pd.read_csv(\"train.csv\",encoding=\"ISO-8859-1\")\n",
    "test = pd.read_csv(\"test.csv\",encoding=\"ISO-8859-1\")"
   ]
  },
  {
   "cell_type": "code",
   "execution_count": 10,
   "metadata": {
    "colab": {
     "base_uri": "https://localhost:8080/",
     "height": 195
    },
    "colab_type": "code",
    "id": "lN8sDGIfihNC",
    "outputId": "9c7b0b36-5c8d-4e32-f40c-cb25c2d651f2"
   },
   "outputs": [
    {
     "data": {
      "text/html": [
       "<div>\n",
       "<style scoped>\n",
       "    .dataframe tbody tr th:only-of-type {\n",
       "        vertical-align: middle;\n",
       "    }\n",
       "\n",
       "    .dataframe tbody tr th {\n",
       "        vertical-align: top;\n",
       "    }\n",
       "\n",
       "    .dataframe thead th {\n",
       "        text-align: right;\n",
       "    }\n",
       "</style>\n",
       "<table border=\"1\" class=\"dataframe\">\n",
       "  <thead>\n",
       "    <tr style=\"text-align: right;\">\n",
       "      <th></th>\n",
       "      <th>Id</th>\n",
       "      <th>text</th>\n",
       "      <th>Target</th>\n",
       "    </tr>\n",
       "  </thead>\n",
       "  <tbody>\n",
       "    <tr>\n",
       "      <th>0</th>\n",
       "      <td>1</td>\n",
       "      <td>@USAirways  ! THE WORST in customer service. @...</td>\n",
       "      <td>-1</td>\n",
       "    </tr>\n",
       "    <tr>\n",
       "      <th>1</th>\n",
       "      <td>2</td>\n",
       "      <td>@united call wait times are over 20 minutes an...</td>\n",
       "      <td>-1</td>\n",
       "    </tr>\n",
       "    <tr>\n",
       "      <th>2</th>\n",
       "      <td>3</td>\n",
       "      <td>@JetBlue what's up with the random delay on fl...</td>\n",
       "      <td>-1</td>\n",
       "    </tr>\n",
       "    <tr>\n",
       "      <th>3</th>\n",
       "      <td>4</td>\n",
       "      <td>@AmericanAir Good morning!  Wondering why my p...</td>\n",
       "      <td>0</td>\n",
       "    </tr>\n",
       "    <tr>\n",
       "      <th>4</th>\n",
       "      <td>5</td>\n",
       "      <td>@united UA 746. Pacific Rim and Date Night cut...</td>\n",
       "      <td>-1</td>\n",
       "    </tr>\n",
       "  </tbody>\n",
       "</table>\n",
       "</div>"
      ],
      "text/plain": [
       "   Id                                               text  Target\n",
       "0   1  @USAirways  ! THE WORST in customer service. @...      -1\n",
       "1   2  @united call wait times are over 20 minutes an...      -1\n",
       "2   3  @JetBlue what's up with the random delay on fl...      -1\n",
       "3   4  @AmericanAir Good morning!  Wondering why my p...       0\n",
       "4   5  @united UA 746. Pacific Rim and Date Night cut...      -1"
      ]
     },
     "execution_count": 10,
     "metadata": {},
     "output_type": "execute_result"
    }
   ],
   "source": [
    "train.head()"
   ]
  },
  {
   "cell_type": "code",
   "execution_count": 11,
   "metadata": {
    "colab": {
     "base_uri": "https://localhost:8080/",
     "height": 185
    },
    "colab_type": "code",
    "id": "mkDzGnBEin6g",
    "outputId": "9b9ae94f-dd13-4ad1-e9e5-2bc5be65583b"
   },
   "outputs": [
    {
     "name": "stdout",
     "output_type": "stream",
     "text": [
      "<class 'pandas.core.frame.DataFrame'>\n",
      "RangeIndex: 7320 entries, 0 to 7319\n",
      "Data columns (total 3 columns):\n",
      " #   Column  Non-Null Count  Dtype \n",
      "---  ------  --------------  ----- \n",
      " 0   Id      7320 non-null   int64 \n",
      " 1   text    7320 non-null   object\n",
      " 2   Target  7320 non-null   int64 \n",
      "dtypes: int64(2), object(1)\n",
      "memory usage: 171.7+ KB\n"
     ]
    }
   ],
   "source": [
    "train.info()"
   ]
  },
  {
   "cell_type": "code",
   "execution_count": 12,
   "metadata": {
    "colab": {
     "base_uri": "https://localhost:8080/",
     "height": 195
    },
    "colab_type": "code",
    "id": "TcRgBgDgij3g",
    "outputId": "9a702275-d646-4ae3-9d94-ffeedff4abd4"
   },
   "outputs": [
    {
     "data": {
      "text/html": [
       "<div>\n",
       "<style scoped>\n",
       "    .dataframe tbody tr th:only-of-type {\n",
       "        vertical-align: middle;\n",
       "    }\n",
       "\n",
       "    .dataframe tbody tr th {\n",
       "        vertical-align: top;\n",
       "    }\n",
       "\n",
       "    .dataframe thead th {\n",
       "        text-align: right;\n",
       "    }\n",
       "</style>\n",
       "<table border=\"1\" class=\"dataframe\">\n",
       "  <thead>\n",
       "    <tr style=\"text-align: right;\">\n",
       "      <th></th>\n",
       "      <th>id</th>\n",
       "      <th>text</th>\n",
       "    </tr>\n",
       "  </thead>\n",
       "  <tbody>\n",
       "    <tr>\n",
       "      <th>0</th>\n",
       "      <td>7322</td>\n",
       "      <td>@AmericanAir In car gng to DFW. Pulled over 1h...</td>\n",
       "    </tr>\n",
       "    <tr>\n",
       "      <th>1</th>\n",
       "      <td>7323</td>\n",
       "      <td>@AmericanAir after all, the plane didnÂÃÂªt ...</td>\n",
       "    </tr>\n",
       "    <tr>\n",
       "      <th>2</th>\n",
       "      <td>7324</td>\n",
       "      <td>@SouthwestAir can't believe how many paying cu...</td>\n",
       "    </tr>\n",
       "    <tr>\n",
       "      <th>3</th>\n",
       "      <td>7325</td>\n",
       "      <td>@USAirways I can legitimately say that I would...</td>\n",
       "    </tr>\n",
       "    <tr>\n",
       "      <th>4</th>\n",
       "      <td>7326</td>\n",
       "      <td>@AmericanAir still no response from AA. great ...</td>\n",
       "    </tr>\n",
       "  </tbody>\n",
       "</table>\n",
       "</div>"
      ],
      "text/plain": [
       "     id                                               text\n",
       "0  7322  @AmericanAir In car gng to DFW. Pulled over 1h...\n",
       "1  7323  @AmericanAir after all, the plane didnÂÃÂªt ...\n",
       "2  7324  @SouthwestAir can't believe how many paying cu...\n",
       "3  7325  @USAirways I can legitimately say that I would...\n",
       "4  7326  @AmericanAir still no response from AA. great ..."
      ]
     },
     "execution_count": 12,
     "metadata": {},
     "output_type": "execute_result"
    }
   ],
   "source": [
    "test.head()"
   ]
  },
  {
   "cell_type": "code",
   "execution_count": 13,
   "metadata": {
    "colab": {
     "base_uri": "https://localhost:8080/",
     "height": 168
    },
    "colab_type": "code",
    "id": "GUb3A_jhiq5d",
    "outputId": "1799cd99-ec6f-43ed-b666-b019d99aa183"
   },
   "outputs": [
    {
     "name": "stdout",
     "output_type": "stream",
     "text": [
      "<class 'pandas.core.frame.DataFrame'>\n",
      "RangeIndex: 7320 entries, 0 to 7319\n",
      "Data columns (total 2 columns):\n",
      " #   Column  Non-Null Count  Dtype \n",
      "---  ------  --------------  ----- \n",
      " 0   id      7320 non-null   int64 \n",
      " 1   text    7320 non-null   object\n",
      "dtypes: int64(1), object(1)\n",
      "memory usage: 114.5+ KB\n"
     ]
    }
   ],
   "source": [
    "test.info()"
   ]
  },
  {
   "cell_type": "markdown",
   "metadata": {
    "colab_type": "text",
    "id": "zMrg7wzcuA-b"
   },
   "source": [
    "**Removing @ mentions from the tweets**\n"
   ]
  },
  {
   "cell_type": "code",
   "execution_count": 14,
   "metadata": {
    "colab": {},
    "colab_type": "code",
    "id": "rQLkZ56Ut_wk"
   },
   "outputs": [],
   "source": [
    "# We will define a function to remove special characters specified to the function\n",
    "def pattern_removal(input,pattern):\n",
    "  s = re.findall(pattern,input)\n",
    "  for i in s:\n",
    "    input = re.sub(i,'',input)\n",
    "  return input"
   ]
  },
  {
   "cell_type": "code",
   "execution_count": 15,
   "metadata": {
    "colab": {},
    "colab_type": "code",
    "id": "rMEDntbquAPV"
   },
   "outputs": [],
   "source": [
    "train['text'] = np.vectorize(pattern_removal)(train['text'],\"@[\\w]*\")"
   ]
  },
  {
   "cell_type": "code",
   "execution_count": 16,
   "metadata": {
    "colab": {
     "base_uri": "https://localhost:8080/",
     "height": 195
    },
    "colab_type": "code",
    "id": "XykkLTs9uAdC",
    "outputId": "d5cc4b6d-4131-49d4-aa51-da1d252068a8"
   },
   "outputs": [
    {
     "data": {
      "text/html": [
       "<div>\n",
       "<style scoped>\n",
       "    .dataframe tbody tr th:only-of-type {\n",
       "        vertical-align: middle;\n",
       "    }\n",
       "\n",
       "    .dataframe tbody tr th {\n",
       "        vertical-align: top;\n",
       "    }\n",
       "\n",
       "    .dataframe thead th {\n",
       "        text-align: right;\n",
       "    }\n",
       "</style>\n",
       "<table border=\"1\" class=\"dataframe\">\n",
       "  <thead>\n",
       "    <tr style=\"text-align: right;\">\n",
       "      <th></th>\n",
       "      <th>Id</th>\n",
       "      <th>text</th>\n",
       "      <th>Target</th>\n",
       "    </tr>\n",
       "  </thead>\n",
       "  <tbody>\n",
       "    <tr>\n",
       "      <th>0</th>\n",
       "      <td>1</td>\n",
       "      <td>! THE WORST in customer service.  ! Calling ...</td>\n",
       "      <td>-1</td>\n",
       "    </tr>\n",
       "    <tr>\n",
       "      <th>1</th>\n",
       "      <td>2</td>\n",
       "      <td>call wait times are over 20 minutes and airpo...</td>\n",
       "      <td>-1</td>\n",
       "    </tr>\n",
       "    <tr>\n",
       "      <th>2</th>\n",
       "      <td>3</td>\n",
       "      <td>what's up with the random delay on flight 172...</td>\n",
       "      <td>-1</td>\n",
       "    </tr>\n",
       "    <tr>\n",
       "      <th>3</th>\n",
       "      <td>4</td>\n",
       "      <td>Good morning!  Wondering why my pre-TSA check...</td>\n",
       "      <td>0</td>\n",
       "    </tr>\n",
       "    <tr>\n",
       "      <th>4</th>\n",
       "      <td>5</td>\n",
       "      <td>UA 746. Pacific Rim and Date Night cut out. N...</td>\n",
       "      <td>-1</td>\n",
       "    </tr>\n",
       "  </tbody>\n",
       "</table>\n",
       "</div>"
      ],
      "text/plain": [
       "   Id                                               text  Target\n",
       "0   1    ! THE WORST in customer service.  ! Calling ...      -1\n",
       "1   2   call wait times are over 20 minutes and airpo...      -1\n",
       "2   3   what's up with the random delay on flight 172...      -1\n",
       "3   4   Good morning!  Wondering why my pre-TSA check...       0\n",
       "4   5   UA 746. Pacific Rim and Date Night cut out. N...      -1"
      ]
     },
     "execution_count": 16,
     "metadata": {},
     "output_type": "execute_result"
    }
   ],
   "source": [
    "train.head()"
   ]
  },
  {
   "cell_type": "code",
   "execution_count": 17,
   "metadata": {
    "colab": {},
    "colab_type": "code",
    "id": "RpHAEdXIvYUJ"
   },
   "outputs": [],
   "source": [
    "test['text'] = np.vectorize(pattern_removal)(test['text'],\"@[\\w]*\")"
   ]
  },
  {
   "cell_type": "code",
   "execution_count": 18,
   "metadata": {
    "colab": {
     "base_uri": "https://localhost:8080/",
     "height": 195
    },
    "colab_type": "code",
    "id": "-xucoMIEvYjL",
    "outputId": "d2ba4b03-037c-451c-adf6-73e842d17115"
   },
   "outputs": [
    {
     "data": {
      "text/html": [
       "<div>\n",
       "<style scoped>\n",
       "    .dataframe tbody tr th:only-of-type {\n",
       "        vertical-align: middle;\n",
       "    }\n",
       "\n",
       "    .dataframe tbody tr th {\n",
       "        vertical-align: top;\n",
       "    }\n",
       "\n",
       "    .dataframe thead th {\n",
       "        text-align: right;\n",
       "    }\n",
       "</style>\n",
       "<table border=\"1\" class=\"dataframe\">\n",
       "  <thead>\n",
       "    <tr style=\"text-align: right;\">\n",
       "      <th></th>\n",
       "      <th>id</th>\n",
       "      <th>text</th>\n",
       "    </tr>\n",
       "  </thead>\n",
       "  <tbody>\n",
       "    <tr>\n",
       "      <th>0</th>\n",
       "      <td>7322</td>\n",
       "      <td>In car gng to DFW. Pulled over 1hr ago - very...</td>\n",
       "    </tr>\n",
       "    <tr>\n",
       "      <th>1</th>\n",
       "      <td>7323</td>\n",
       "      <td>after all, the plane didnÂÃÂªt land in iden...</td>\n",
       "    </tr>\n",
       "    <tr>\n",
       "      <th>2</th>\n",
       "      <td>7324</td>\n",
       "      <td>can't believe how many paying customers you l...</td>\n",
       "    </tr>\n",
       "    <tr>\n",
       "      <th>3</th>\n",
       "      <td>7325</td>\n",
       "      <td>I can legitimately say that I would have rath...</td>\n",
       "    </tr>\n",
       "    <tr>\n",
       "      <th>4</th>\n",
       "      <td>7326</td>\n",
       "      <td>still no response from AA. great job guys!</td>\n",
       "    </tr>\n",
       "  </tbody>\n",
       "</table>\n",
       "</div>"
      ],
      "text/plain": [
       "     id                                               text\n",
       "0  7322   In car gng to DFW. Pulled over 1hr ago - very...\n",
       "1  7323   after all, the plane didnÂÃÂªt land in iden...\n",
       "2  7324   can't believe how many paying customers you l...\n",
       "3  7325   I can legitimately say that I would have rath...\n",
       "4  7326         still no response from AA. great job guys!"
      ]
     },
     "execution_count": 18,
     "metadata": {},
     "output_type": "execute_result"
    }
   ],
   "source": [
    "test.head()"
   ]
  },
  {
   "cell_type": "markdown",
   "metadata": {
    "colab_type": "text",
    "id": "2wDxnztMrbB_"
   },
   "source": [
    "**Converting to Lower Case**"
   ]
  },
  {
   "cell_type": "code",
   "execution_count": 19,
   "metadata": {
    "colab": {},
    "colab_type": "code",
    "id": "tWmCudLUrdyu"
   },
   "outputs": [],
   "source": [
    "train['text']=train['text'].str.lower()"
   ]
  },
  {
   "cell_type": "code",
   "execution_count": 20,
   "metadata": {
    "colab": {},
    "colab_type": "code",
    "id": "g2JPY44FreEa"
   },
   "outputs": [],
   "source": [
    "test['text']=test['text'].str.lower()"
   ]
  },
  {
   "cell_type": "markdown",
   "metadata": {
    "colab_type": "text",
    "id": "Wdv4dOzeKEau"
   },
   "source": [
    "**Removing http links**"
   ]
  },
  {
   "cell_type": "code",
   "execution_count": 21,
   "metadata": {
    "colab": {},
    "colab_type": "code",
    "id": "AZGIiOA-KNh8"
   },
   "outputs": [],
   "source": [
    "# We will use str.replace function to replace all http and https links with blanks in the tweets\n",
    "train['text'] = train['text'].str.replace(\"http[s]\\S+\", \"\")"
   ]
  },
  {
   "cell_type": "code",
   "execution_count": 22,
   "metadata": {
    "colab": {
     "base_uri": "https://localhost:8080/",
     "height": 35
    },
    "colab_type": "code",
    "id": "WUDw7BdwKNk6",
    "outputId": "863232db-7270-45c3-fccc-be6e516514a6"
   },
   "outputs": [
    {
     "data": {
      "text/plain": [
       "'  wow what an amazing video  great world guys #bluemanity #corevalues #passion #aerojobmarket'"
      ]
     },
     "execution_count": 22,
     "metadata": {},
     "output_type": "execute_result"
    }
   ],
   "source": [
    "train['text'].iloc[94]"
   ]
  },
  {
   "cell_type": "code",
   "execution_count": 23,
   "metadata": {
    "colab": {},
    "colab_type": "code",
    "id": "dXU1V0Q6KNor"
   },
   "outputs": [],
   "source": [
    "test['text'] = test['text'].str.replace(\"http[s]\\S+\", \"\")"
   ]
  },
  {
   "cell_type": "code",
   "execution_count": 24,
   "metadata": {
    "colab": {
     "base_uri": "https://localhost:8080/",
     "height": 35
    },
    "colab_type": "code",
    "id": "q24OzHhwKNr9",
    "outputId": "8e128163-8b02-4abf-bcf5-0ce040fd995b"
   },
   "outputs": [
    {
     "data": {
      "text/plain": [
       "' it is really embarrassing when asking for complimentary drink/snack detailed here:  &amp; being argued with.'"
      ]
     },
     "execution_count": 24,
     "metadata": {},
     "output_type": "execute_result"
    }
   ],
   "source": [
    "test['text'].iloc[11]"
   ]
  },
  {
   "cell_type": "markdown",
   "metadata": {
    "colab_type": "text",
    "id": "jzeRdQY2HvAy"
   },
   "source": [
    "**Converting Emoticons to relevant text**"
   ]
  },
  {
   "cell_type": "code",
   "execution_count": 25,
   "metadata": {
    "colab": {
     "base_uri": "https://localhost:8080/",
     "height": 34
    },
    "colab_type": "code",
    "id": "SrFcYdvIHz3B",
    "outputId": "06b3e9b2-a47e-4674-8c39-02dc66ea8955"
   },
   "outputs": [
    {
     "name": "stdout",
     "output_type": "stream",
     "text": [
      "Collecting emot\n",
      "  Downloading emot-2.1-py3-none-any.whl (27 kB)\n",
      "Installing collected packages: emot\n",
      "Successfully installed emot-2.1\n"
     ]
    },
    {
     "name": "stderr",
     "output_type": "stream",
     "text": [
      "WARNING: You are using pip version 20.2; however, version 20.2.2 is available.\n",
      "You should consider upgrading via the 'c:\\python\\python37\\python.exe -m pip install --upgrade pip' command.\n"
     ]
    }
   ],
   "source": [
    "#Installing emot library\n",
    "!pip install emot\n",
    "#Importing libraries\n",
    "import re\n",
    "from emot.emo_unicode import UNICODE_EMO, EMOTICONS"
   ]
  },
  {
   "cell_type": "code",
   "execution_count": 26,
   "metadata": {
    "colab": {},
    "colab_type": "code",
    "id": "Dv-ub3zGH_PP"
   },
   "outputs": [],
   "source": [
    "# Function for converting emoticons into word\n",
    "def convert_emoticons(text):\n",
    "    for e in EMOTICONS:\n",
    "        text = re.sub(u'('+e+')', \"_\".join(EMOTICONS[e].replace(\",\",\"\").split()), text)\n",
    "    return text"
   ]
  },
  {
   "cell_type": "code",
   "execution_count": 27,
   "metadata": {
    "colab": {},
    "colab_type": "code",
    "id": "ibK3d1rdIM5R"
   },
   "outputs": [],
   "source": [
    "train['text'] = train['text'].apply(convert_emoticons)"
   ]
  },
  {
   "cell_type": "code",
   "execution_count": 28,
   "metadata": {
    "colab": {
     "base_uri": "https://localhost:8080/",
     "height": 35
    },
    "colab_type": "code",
    "id": "xvirTxCWIsB5",
    "outputId": "2e590512-1535-49b7-9526-9d174b5e15d5"
   },
   "outputs": [
    {
     "data": {
      "text/plain": [
       "' credit to you for replying.  iâ\\x89ã\\x9bâªll look forward to hopefully one of those 103 on my flight home tonight Happy_face_or_smiley'"
      ]
     },
     "execution_count": 28,
     "metadata": {},
     "output_type": "execute_result"
    }
   ],
   "source": [
    "train['text'].iloc[46]"
   ]
  },
  {
   "cell_type": "code",
   "execution_count": 29,
   "metadata": {
    "colab": {},
    "colab_type": "code",
    "id": "RYyjfcWWJLBm"
   },
   "outputs": [],
   "source": [
    "#Replacing the _ in converted emoticons by space\n",
    "train['text'] = train['text'].str.replace('_',' ')"
   ]
  },
  {
   "cell_type": "code",
   "execution_count": 30,
   "metadata": {
    "colab": {},
    "colab_type": "code",
    "id": "VcXWkPkoJUKq"
   },
   "outputs": [],
   "source": [
    "test['text'] = test['text'].apply(convert_emoticons)"
   ]
  },
  {
   "cell_type": "code",
   "execution_count": 31,
   "metadata": {
    "colab": {},
    "colab_type": "code",
    "id": "3bjFBUrA3ErU"
   },
   "outputs": [],
   "source": [
    "test['text'] = test['text'].str.replace('_',' ')"
   ]
  },
  {
   "cell_type": "markdown",
   "metadata": {
    "colab_type": "text",
    "id": "arHtf1UGwR4o"
   },
   "source": [
    "**Removing Special Characters**"
   ]
  },
  {
   "cell_type": "code",
   "execution_count": 32,
   "metadata": {
    "colab": {},
    "colab_type": "code",
    "id": "tNXnZfitwbMZ"
   },
   "outputs": [],
   "source": [
    "# All the special characters and words starting with & are removed here \n",
    "train['text'] = np.vectorize(pattern_removal)(train['text'],\"&[\\w]*\")\n",
    "train['text'] = train['text'].str.replace(\"[^a-zA-Z\\.]\",\" \")"
   ]
  },
  {
   "cell_type": "code",
   "execution_count": 33,
   "metadata": {
    "colab": {
     "base_uri": "https://localhost:8080/",
     "height": 35
    },
    "colab_type": "code",
    "id": "JLQJX9bDxEEd",
    "outputId": "0c51b88b-f249-4a59-8f7a-6749ba45c782"
   },
   "outputs": [
    {
     "data": {
      "text/plain": [
       "' make sure you take care of  team    team. we are         '"
      ]
     },
     "execution_count": 33,
     "metadata": {},
     "output_type": "execute_result"
    }
   ],
   "source": [
    "train['text'].iloc[96]"
   ]
  },
  {
   "cell_type": "code",
   "execution_count": 34,
   "metadata": {
    "colab": {},
    "colab_type": "code",
    "id": "UVCLMt02xKZ-"
   },
   "outputs": [],
   "source": [
    "test['text'] = np.vectorize(pattern_removal)(test['text'],\"&[\\w]*\")\n",
    "test['text'] = test['text'].str.replace(\"[^a-zA-Z\\.]\",\" \")"
   ]
  },
  {
   "cell_type": "code",
   "execution_count": 35,
   "metadata": {
    "colab": {
     "base_uri": "https://localhost:8080/",
     "height": 195
    },
    "colab_type": "code",
    "id": "b4ewCSfbxOmw",
    "outputId": "aaedd22e-c380-49f2-ec7f-f595af741485"
   },
   "outputs": [
    {
     "data": {
      "text/html": [
       "<div>\n",
       "<style scoped>\n",
       "    .dataframe tbody tr th:only-of-type {\n",
       "        vertical-align: middle;\n",
       "    }\n",
       "\n",
       "    .dataframe tbody tr th {\n",
       "        vertical-align: top;\n",
       "    }\n",
       "\n",
       "    .dataframe thead th {\n",
       "        text-align: right;\n",
       "    }\n",
       "</style>\n",
       "<table border=\"1\" class=\"dataframe\">\n",
       "  <thead>\n",
       "    <tr style=\"text-align: right;\">\n",
       "      <th></th>\n",
       "      <th>id</th>\n",
       "      <th>text</th>\n",
       "    </tr>\n",
       "  </thead>\n",
       "  <tbody>\n",
       "    <tr>\n",
       "      <th>0</th>\n",
       "      <td>7322</td>\n",
       "      <td>in car gng to dfw. pulled over  hr ago   very...</td>\n",
       "    </tr>\n",
       "    <tr>\n",
       "      <th>1</th>\n",
       "      <td>7323</td>\n",
       "      <td>after all  the plane didn      t land in iden...</td>\n",
       "    </tr>\n",
       "    <tr>\n",
       "      <th>2</th>\n",
       "      <td>7324</td>\n",
       "      <td>can t believe how many paying customers you l...</td>\n",
       "    </tr>\n",
       "    <tr>\n",
       "      <th>3</th>\n",
       "      <td>7325</td>\n",
       "      <td>i can legitimately say that i would have rath...</td>\n",
       "    </tr>\n",
       "    <tr>\n",
       "      <th>4</th>\n",
       "      <td>7326</td>\n",
       "      <td>still no response from aa. great job guys</td>\n",
       "    </tr>\n",
       "  </tbody>\n",
       "</table>\n",
       "</div>"
      ],
      "text/plain": [
       "     id                                               text\n",
       "0  7322   in car gng to dfw. pulled over  hr ago   very...\n",
       "1  7323   after all  the plane didn      t land in iden...\n",
       "2  7324   can t believe how many paying customers you l...\n",
       "3  7325   i can legitimately say that i would have rath...\n",
       "4  7326         still no response from aa. great job guys "
      ]
     },
     "execution_count": 35,
     "metadata": {},
     "output_type": "execute_result"
    }
   ],
   "source": [
    "test.head()"
   ]
  },
  {
   "cell_type": "markdown",
   "metadata": {
    "colab_type": "text",
    "id": "UOMEGL_c2Ah4"
   },
   "source": [
    "**Replacing Period with Space**"
   ]
  },
  {
   "cell_type": "code",
   "execution_count": 36,
   "metadata": {
    "colab": {},
    "colab_type": "code",
    "id": "8slqGYF-2EMN"
   },
   "outputs": [],
   "source": [
    "train['text'] = train['text'].str.replace(\"\\.\",\" \")"
   ]
  },
  {
   "cell_type": "code",
   "execution_count": 37,
   "metadata": {
    "colab": {},
    "colab_type": "code",
    "id": "r-IWXYK42JuZ"
   },
   "outputs": [],
   "source": [
    "test['text'] = test['text'].str.replace(\"\\.\",\" \")"
   ]
  },
  {
   "cell_type": "markdown",
   "metadata": {
    "colab_type": "text",
    "id": "4OuQD35G2QG4"
   },
   "source": [
    "**Removing Extra Spaces**"
   ]
  },
  {
   "cell_type": "code",
   "execution_count": 38,
   "metadata": {
    "colab": {},
    "colab_type": "code",
    "id": "BXMx5kbK2TyX"
   },
   "outputs": [],
   "source": [
    "# We will remove extra spaces and replace them with single space\n",
    "train['text'] = train['text'].apply(lambda x:re.sub('\\s+',' ',x))"
   ]
  },
  {
   "cell_type": "code",
   "execution_count": 39,
   "metadata": {
    "colab": {},
    "colab_type": "code",
    "id": "irn9ifDy2T5R"
   },
   "outputs": [],
   "source": [
    "test['text'] = test['text'].apply(lambda x:re.sub('\\s+',' ',x))"
   ]
  },
  {
   "cell_type": "markdown",
   "metadata": {
    "colab_type": "text",
    "id": "3Rf8a7KRYAN2"
   },
   "source": [
    "**Removing Stop Words**"
   ]
  },
  {
   "cell_type": "code",
   "execution_count": 559,
   "metadata": {
    "colab": {
     "base_uri": "https://localhost:8080/",
     "height": 50
    },
    "colab_type": "code",
    "id": "dGenjl65YDZn",
    "outputId": "c56282ec-cc5d-4b92-b751-2a6718b59f4c"
   },
   "outputs": [
    {
     "name": "stdout",
     "output_type": "stream",
     "text": [
      "[nltk_data] Downloading package stopwords to /root/nltk_data...\n",
      "[nltk_data]   Package stopwords is already up-to-date!\n"
     ]
    }
   ],
   "source": [
    "nltk.download('stopwords')\n",
    "from nltk.corpus import stopwords as nltk_stopwords\n",
    "stop = set(nltk_stopwords.words('english'))\n",
    "whitelist = [\"n't\", \"not\", \"no\"]"
   ]
  },
  {
   "cell_type": "code",
   "execution_count": 560,
   "metadata": {
    "colab": {},
    "colab_type": "code",
    "id": "I3bz35NCYDpO"
   },
   "outputs": [],
   "source": [
    "train['text'] = train['text'].apply(lambda x: ' '.join([word for word in x.split() if (word not in (stop) or word in whitelist)]))"
   ]
  },
  {
   "cell_type": "code",
   "execution_count": 561,
   "metadata": {
    "colab": {
     "base_uri": "https://localhost:8080/",
     "height": 195
    },
    "colab_type": "code",
    "id": "Bk46q1E6YK7G",
    "outputId": "09cc42ec-e11b-4f95-e321-800ec39a8c7d"
   },
   "outputs": [
    {
     "data": {
      "text/html": [
       "<div>\n",
       "<style scoped>\n",
       "    .dataframe tbody tr th:only-of-type {\n",
       "        vertical-align: middle;\n",
       "    }\n",
       "\n",
       "    .dataframe tbody tr th {\n",
       "        vertical-align: top;\n",
       "    }\n",
       "\n",
       "    .dataframe thead th {\n",
       "        text-align: right;\n",
       "    }\n",
       "</style>\n",
       "<table border=\"1\" class=\"dataframe\">\n",
       "  <thead>\n",
       "    <tr style=\"text-align: right;\">\n",
       "      <th></th>\n",
       "      <th>Id</th>\n",
       "      <th>text</th>\n",
       "      <th>Target</th>\n",
       "    </tr>\n",
       "  </thead>\n",
       "  <tbody>\n",
       "    <tr>\n",
       "      <th>0</th>\n",
       "      <td>1</td>\n",
       "      <td>worst customer service calling month book flig...</td>\n",
       "      <td>-1</td>\n",
       "    </tr>\n",
       "    <tr>\n",
       "      <th>1</th>\n",
       "      <td>2</td>\n",
       "      <td>call wait times minutes airport wait times longer</td>\n",
       "      <td>-1</td>\n",
       "    </tr>\n",
       "    <tr>\n",
       "      <th>2</th>\n",
       "      <td>3</td>\n",
       "      <td>random delay flight chance false alarm</td>\n",
       "      <td>-1</td>\n",
       "    </tr>\n",
       "    <tr>\n",
       "      <th>3</th>\n",
       "      <td>4</td>\n",
       "      <td>good morning wondering pre tsa check not board...</td>\n",
       "      <td>0</td>\n",
       "    </tr>\n",
       "    <tr>\n",
       "      <th>4</th>\n",
       "      <td>5</td>\n",
       "      <td>ua pacific rim date night cut not constantly r...</td>\n",
       "      <td>-1</td>\n",
       "    </tr>\n",
       "  </tbody>\n",
       "</table>\n",
       "</div>"
      ],
      "text/plain": [
       "   Id                                               text  Target\n",
       "0   1  worst customer service calling month book flig...      -1\n",
       "1   2  call wait times minutes airport wait times longer      -1\n",
       "2   3             random delay flight chance false alarm      -1\n",
       "3   4  good morning wondering pre tsa check not board...       0\n",
       "4   5  ua pacific rim date night cut not constantly r...      -1"
      ]
     },
     "execution_count": 561,
     "metadata": {
      "tags": []
     },
     "output_type": "execute_result"
    }
   ],
   "source": [
    "train.head()"
   ]
  },
  {
   "cell_type": "code",
   "execution_count": 562,
   "metadata": {
    "colab": {},
    "colab_type": "code",
    "id": "GQBd4mhIYPaX"
   },
   "outputs": [],
   "source": [
    "test['text'] = test['text'].apply(lambda x: ' '.join([word for word in x.split() if (word not in (stop) or word in whitelist)]))"
   ]
  },
  {
   "cell_type": "code",
   "execution_count": 563,
   "metadata": {
    "colab": {
     "base_uri": "https://localhost:8080/",
     "height": 195
    },
    "colab_type": "code",
    "id": "aB3b3HRpYPXm",
    "outputId": "ed5dfb48-e62d-4635-a7bc-b301061d5c76"
   },
   "outputs": [
    {
     "data": {
      "text/html": [
       "<div>\n",
       "<style scoped>\n",
       "    .dataframe tbody tr th:only-of-type {\n",
       "        vertical-align: middle;\n",
       "    }\n",
       "\n",
       "    .dataframe tbody tr th {\n",
       "        vertical-align: top;\n",
       "    }\n",
       "\n",
       "    .dataframe thead th {\n",
       "        text-align: right;\n",
       "    }\n",
       "</style>\n",
       "<table border=\"1\" class=\"dataframe\">\n",
       "  <thead>\n",
       "    <tr style=\"text-align: right;\">\n",
       "      <th></th>\n",
       "      <th>id</th>\n",
       "      <th>text</th>\n",
       "    </tr>\n",
       "  </thead>\n",
       "  <tbody>\n",
       "    <tr>\n",
       "      <th>0</th>\n",
       "      <td>7322</td>\n",
       "      <td>car gng dfw pulled hr ago icy roads hold aa si...</td>\n",
       "    </tr>\n",
       "    <tr>\n",
       "      <th>1</th>\n",
       "      <td>7323</td>\n",
       "      <td>plane land identical worseConfusion conditions...</td>\n",
       "    </tr>\n",
       "    <tr>\n",
       "      <th>2</th>\n",
       "      <td>7324</td>\n",
       "      <td>believe many paying customers left high dry no...</td>\n",
       "    </tr>\n",
       "    <tr>\n",
       "      <th>3</th>\n",
       "      <td>7325</td>\n",
       "      <td>legitimately say would rather driven cross cou...</td>\n",
       "    </tr>\n",
       "    <tr>\n",
       "      <th>4</th>\n",
       "      <td>7326</td>\n",
       "      <td>still no response aa great job guys</td>\n",
       "    </tr>\n",
       "  </tbody>\n",
       "</table>\n",
       "</div>"
      ],
      "text/plain": [
       "     id                                               text\n",
       "0  7322  car gng dfw pulled hr ago icy roads hold aa si...\n",
       "1  7323  plane land identical worseConfusion conditions...\n",
       "2  7324  believe many paying customers left high dry no...\n",
       "3  7325  legitimately say would rather driven cross cou...\n",
       "4  7326                still no response aa great job guys"
      ]
     },
     "execution_count": 563,
     "metadata": {
      "tags": []
     },
     "output_type": "execute_result"
    }
   ],
   "source": [
    "test.head()"
   ]
  },
  {
   "cell_type": "markdown",
   "metadata": {
    "colab_type": "text",
    "id": "TaQ54N8r2hRH"
   },
   "source": [
    "**Lemmatization**"
   ]
  },
  {
   "cell_type": "code",
   "execution_count": 495,
   "metadata": {
    "colab": {
     "base_uri": "https://localhost:8080/",
     "height": 50
    },
    "colab_type": "code",
    "id": "Yzput-sKWoT-",
    "outputId": "421e093e-5704-4ea5-fde5-23411f72e6a9"
   },
   "outputs": [
    {
     "name": "stdout",
     "output_type": "stream",
     "text": [
      "[nltk_data] Downloading package wordnet to /root/nltk_data...\n",
      "[nltk_data]   Package wordnet is already up-to-date!\n"
     ]
    }
   ],
   "source": [
    "nltk.download('wordnet')\n",
    "from nltk.stem import WordNetLemmatizer \n",
    "lemmatizer = WordNetLemmatizer()"
   ]
  },
  {
   "cell_type": "code",
   "execution_count": 496,
   "metadata": {
    "colab": {},
    "colab_type": "code",
    "id": "BZ8dd0IHi3rj"
   },
   "outputs": [],
   "source": [
    "import spacy\n",
    "nlp = spacy.load('en_core_web_sm')"
   ]
  },
  {
   "cell_type": "code",
   "execution_count": 497,
   "metadata": {
    "colab": {},
    "colab_type": "code",
    "id": "AJRPxvN7WgAU"
   },
   "outputs": [],
   "source": [
    "def lemmatization_function(text):\n",
    "  tokens = text.split()\n",
    "  lemm_tokens = [lemmatizer.lemmatize(x) for x in tokens]\n",
    "  return ' '.join(lemm_tokens)"
   ]
  },
  {
   "cell_type": "code",
   "execution_count": 498,
   "metadata": {
    "colab": {},
    "colab_type": "code",
    "id": "ARgXi0kdi0Ig"
   },
   "outputs": [],
   "source": [
    "def lemmatization_function_spacy(text):\n",
    "  tokens = nlp(text)\n",
    "  lemm_tokens = [x.lemma_ for x in tokens]\n",
    "  return ' '.join(lemm_tokens)"
   ]
  },
  {
   "cell_type": "code",
   "execution_count": 499,
   "metadata": {
    "colab": {},
    "colab_type": "code",
    "id": "8P0s6TzjjFV1"
   },
   "outputs": [],
   "source": [
    "#train['text'] = train['text'].apply(lemmatization_function)\n",
    "train['text'] = train['text'].apply(lemmatization_function_spacy)"
   ]
  },
  {
   "cell_type": "code",
   "execution_count": 500,
   "metadata": {
    "colab": {},
    "colab_type": "code",
    "id": "tN9JSGLQjeH9"
   },
   "outputs": [],
   "source": [
    "#test['text'] = test['text'].apply(lemmatization_function)\n",
    "test['text'] = test['text'].apply(lemmatization_function_spacy)"
   ]
  },
  {
   "cell_type": "code",
   "execution_count": 443,
   "metadata": {
    "colab": {
     "base_uri": "https://localhost:8080/",
     "height": 195
    },
    "colab_type": "code",
    "id": "OYBeSJBsXtVU",
    "outputId": "c2283189-b275-4c44-a786-2bc0c9003fe8"
   },
   "outputs": [
    {
     "data": {
      "text/html": [
       "<div>\n",
       "<style scoped>\n",
       "    .dataframe tbody tr th:only-of-type {\n",
       "        vertical-align: middle;\n",
       "    }\n",
       "\n",
       "    .dataframe tbody tr th {\n",
       "        vertical-align: top;\n",
       "    }\n",
       "\n",
       "    .dataframe thead th {\n",
       "        text-align: right;\n",
       "    }\n",
       "</style>\n",
       "<table border=\"1\" class=\"dataframe\">\n",
       "  <thead>\n",
       "    <tr style=\"text-align: right;\">\n",
       "      <th></th>\n",
       "      <th>Id</th>\n",
       "      <th>text</th>\n",
       "      <th>Target</th>\n",
       "    </tr>\n",
       "  </thead>\n",
       "  <tbody>\n",
       "    <tr>\n",
       "      <th>0</th>\n",
       "      <td>1</td>\n",
       "      <td>bad customer service call month book flight po...</td>\n",
       "      <td>-1</td>\n",
       "    </tr>\n",
       "    <tr>\n",
       "      <th>1</th>\n",
       "      <td>2</td>\n",
       "      <td>call wait times minutes airport wait time longer</td>\n",
       "      <td>-1</td>\n",
       "    </tr>\n",
       "    <tr>\n",
       "      <th>2</th>\n",
       "      <td>3</td>\n",
       "      <td>random delay flight chance false alarm</td>\n",
       "      <td>-1</td>\n",
       "    </tr>\n",
       "    <tr>\n",
       "      <th>3</th>\n",
       "      <td>4</td>\n",
       "      <td>good morning wonder pre tsa check board pass m...</td>\n",
       "      <td>0</td>\n",
       "    </tr>\n",
       "    <tr>\n",
       "      <th>4</th>\n",
       "      <td>5</td>\n",
       "      <td>pacific date night constantly randomly spot re...</td>\n",
       "      <td>-1</td>\n",
       "    </tr>\n",
       "  </tbody>\n",
       "</table>\n",
       "</div>"
      ],
      "text/plain": [
       "   Id                                               text  Target\n",
       "0   1  bad customer service call month book flight po...      -1\n",
       "1   2   call wait times minutes airport wait time longer      -1\n",
       "2   3             random delay flight chance false alarm      -1\n",
       "3   4  good morning wonder pre tsa check board pass m...       0\n",
       "4   5  pacific date night constantly randomly spot re...      -1"
      ]
     },
     "execution_count": 443,
     "metadata": {
      "tags": []
     },
     "output_type": "execute_result"
    }
   ],
   "source": [
    "train.head()"
   ]
  },
  {
   "cell_type": "code",
   "execution_count": null,
   "metadata": {
    "colab": {
     "base_uri": "https://localhost:8080/",
     "height": 35
    },
    "colab_type": "code",
    "id": "pKxQWTTV8TGo",
    "outputId": "c904091f-49c7-4099-aaee-c5edf11aba1d"
   },
   "outputs": [
    {
     "data": {
      "application/vnd.google.colaboratory.intrinsic+json": {
       "type": "string"
      },
      "text/plain": [
       "'  good morning    wonder why -PRON- pre tsa check be not on -PRON- boarding pass this morning  '"
      ]
     },
     "execution_count": 581,
     "metadata": {
      "tags": []
     },
     "output_type": "execute_result"
    }
   ],
   "source": [
    "train['text'].iloc[3]"
   ]
  },
  {
   "cell_type": "markdown",
   "metadata": {
    "colab_type": "text",
    "id": "eXuWMGTM83cI"
   },
   "source": [
    "**Stemming**"
   ]
  },
  {
   "cell_type": "code",
   "execution_count": 40,
   "metadata": {
    "colab": {},
    "colab_type": "code",
    "id": "_GsqoaKo823S"
   },
   "outputs": [],
   "source": [
    "from nltk.stem.snowball import SnowballStemmer\n",
    "from nltk.stem.porter import PorterStemmer \n",
    "stemmer = PorterStemmer()"
   ]
  },
  {
   "cell_type": "code",
   "execution_count": 41,
   "metadata": {
    "colab": {},
    "colab_type": "code",
    "id": "3yjN8Q88X93X"
   },
   "outputs": [],
   "source": [
    "def stemming_function(text):\n",
    "  tokens = text.split()\n",
    "  stem_tokens = [stemmer.stem(x) for x in tokens]\n",
    "  return ' '.join(stem_tokens)"
   ]
  },
  {
   "cell_type": "code",
   "execution_count": 42,
   "metadata": {
    "colab": {},
    "colab_type": "code",
    "id": "Lw7mcEfEYGqp"
   },
   "outputs": [],
   "source": [
    "train['text'] = train['text'].apply(stemming_function)"
   ]
  },
  {
   "cell_type": "code",
   "execution_count": 43,
   "metadata": {
    "colab": {},
    "colab_type": "code",
    "id": "nb4K3uk1YXcV"
   },
   "outputs": [],
   "source": [
    "test['text'] = test['text'].apply(stemming_function)"
   ]
  },
  {
   "cell_type": "code",
   "execution_count": 463,
   "metadata": {
    "colab": {
     "base_uri": "https://localhost:8080/",
     "height": 35
    },
    "colab_type": "code",
    "id": "Fwfrahhn_Utp",
    "outputId": "10fba43d-2723-4dcb-e6ef-bd83b4739d09"
   },
   "outputs": [
    {
     "data": {
      "application/vnd.google.colaboratory.intrinsic+json": {
       "type": "string"
      },
      "text/plain": [
       "'good morning wonder pre tsa check board pass morning'"
      ]
     },
     "execution_count": 463,
     "metadata": {
      "tags": []
     },
     "output_type": "execute_result"
    }
   ],
   "source": [
    "train['text'].iloc[3]"
   ]
  },
  {
   "cell_type": "code",
   "execution_count": 464,
   "metadata": {
    "colab": {
     "base_uri": "https://localhost:8080/",
     "height": 195
    },
    "colab_type": "code",
    "id": "oJFpEocr_Weh",
    "outputId": "be70b190-171d-43d9-b020-e03c41f840fa"
   },
   "outputs": [
    {
     "data": {
      "text/html": [
       "<div>\n",
       "<style scoped>\n",
       "    .dataframe tbody tr th:only-of-type {\n",
       "        vertical-align: middle;\n",
       "    }\n",
       "\n",
       "    .dataframe tbody tr th {\n",
       "        vertical-align: top;\n",
       "    }\n",
       "\n",
       "    .dataframe thead th {\n",
       "        text-align: right;\n",
       "    }\n",
       "</style>\n",
       "<table border=\"1\" class=\"dataframe\">\n",
       "  <thead>\n",
       "    <tr style=\"text-align: right;\">\n",
       "      <th></th>\n",
       "      <th>Id</th>\n",
       "      <th>text</th>\n",
       "      <th>Target</th>\n",
       "    </tr>\n",
       "  </thead>\n",
       "  <tbody>\n",
       "    <tr>\n",
       "      <th>0</th>\n",
       "      <td>1</td>\n",
       "      <td>bad customer service call month book flight po...</td>\n",
       "      <td>-1</td>\n",
       "    </tr>\n",
       "    <tr>\n",
       "      <th>1</th>\n",
       "      <td>2</td>\n",
       "      <td>call wait times minutes airport wait time longer</td>\n",
       "      <td>-1</td>\n",
       "    </tr>\n",
       "    <tr>\n",
       "      <th>2</th>\n",
       "      <td>3</td>\n",
       "      <td>random delay flight chance false alarm</td>\n",
       "      <td>-1</td>\n",
       "    </tr>\n",
       "    <tr>\n",
       "      <th>3</th>\n",
       "      <td>4</td>\n",
       "      <td>good morning wonder pre tsa check board pass m...</td>\n",
       "      <td>0</td>\n",
       "    </tr>\n",
       "    <tr>\n",
       "      <th>4</th>\n",
       "      <td>5</td>\n",
       "      <td>pacific date night constantly randomly spot re...</td>\n",
       "      <td>-1</td>\n",
       "    </tr>\n",
       "  </tbody>\n",
       "</table>\n",
       "</div>"
      ],
      "text/plain": [
       "   Id                                               text  Target\n",
       "0   1  bad customer service call month book flight po...      -1\n",
       "1   2   call wait times minutes airport wait time longer      -1\n",
       "2   3             random delay flight chance false alarm      -1\n",
       "3   4  good morning wonder pre tsa check board pass m...       0\n",
       "4   5  pacific date night constantly randomly spot re...      -1"
      ]
     },
     "execution_count": 464,
     "metadata": {
      "tags": []
     },
     "output_type": "execute_result"
    }
   ],
   "source": [
    "train.head()"
   ]
  },
  {
   "cell_type": "markdown",
   "metadata": {
    "colab_type": "text",
    "id": "vCUGiUBNnnjl"
   },
   "source": [
    "## Creating pipelines for ML models"
   ]
  },
  {
   "cell_type": "code",
   "execution_count": 45,
   "metadata": {
    "colab": {},
    "colab_type": "code",
    "id": "7iPkn2oI0PS1"
   },
   "outputs": [],
   "source": [
    "from sklearn.pipeline import Pipeline\n",
    "from sklearn.pipeline import make_pipeline\n",
    "from sklearn.model_selection import GridSearchCV\n",
    "from sklearn.metrics import classification_report\n",
    "from sklearn.feature_extraction.text import HashingVectorizer\n",
    "from sklearn.feature_extraction.text import TfidfVectorizer\n",
    "from sklearn.feature_extraction.text import CountVectorizer\n",
    "from sklearn.linear_model import LogisticRegression\n",
    "from sklearn.naive_bayes import MultinomialNB\n",
    "from sklearn.model_selection import cross_val_score\n",
    "from xgboost import XGBClassifier"
   ]
  },
  {
   "cell_type": "code",
   "execution_count": 46,
   "metadata": {
    "colab": {},
    "colab_type": "code",
    "id": "K0hIUzIWyBJN"
   },
   "outputs": [],
   "source": [
    "# Splitting the dataset into train and test sets\n",
    "from sklearn.model_selection import train_test_split\n",
    "X = train['text']\n",
    "y = train['Target']\n",
    "X_train,X_test,y_train,y_test = train_test_split(X, y, test_size=0.10, random_state=0)"
   ]
  },
  {
   "cell_type": "markdown",
   "metadata": {
    "colab_type": "text",
    "id": "zmbfgGtiuTFx"
   },
   "source": [
    "#### Logistic Regression - TFIDF Vectorizer"
   ]
  },
  {
   "cell_type": "code",
   "execution_count": 901,
   "metadata": {
    "colab": {},
    "colab_type": "code",
    "id": "tUlQtFtSn07e"
   },
   "outputs": [],
   "source": [
    "pipe = Pipeline([('tfidf',TfidfVectorizer()),\n",
    "                     ('LR',LogisticRegression(max_iter=10000,solver='lbfgs',multi_class='multinomial'))])\n",
    "\n",
    "param_grid = {'LR__C': [0.01, 0.1,0.5, 1],\n",
    "              'LR__penalty':['l1','l2'],\n",
    "              'tfidf__max_df':[0.1,0.5,0.75,0.95],\n",
    "              'tfidf__min_df':[1,2,5],\n",
    "              'tfidf__ngram_range':[(1,1),(1,2),(2,2)]}"
   ]
  },
  {
   "cell_type": "code",
   "execution_count": 902,
   "metadata": {
    "colab": {},
    "colab_type": "code",
    "id": "LWeSMa7KqULz"
   },
   "outputs": [],
   "source": [
    "LR_TF = GridSearchCV(pipe, param_grid, cv=5,n_jobs=-1,scoring=\"f1_macro\")"
   ]
  },
  {
   "cell_type": "code",
   "execution_count": 903,
   "metadata": {
    "colab": {
     "base_uri": "https://localhost:8080/",
     "height": 34
    },
    "colab_type": "code",
    "id": "KBZDa2LLqpUt",
    "outputId": "7da48079-66b3-444a-b4ff-a668794ca5ae"
   },
   "outputs": [
    {
     "name": "stdout",
     "output_type": "stream",
     "text": [
      "Best cross-validation score: 0.70\n"
     ]
    }
   ],
   "source": [
    "LR_TF.fit(X_train, y_train)\n",
    "print(\"Best cross-validation score: {:.2f}\".format(LR_TF.best_score_))"
   ]
  },
  {
   "cell_type": "code",
   "execution_count": 904,
   "metadata": {
    "colab": {
     "base_uri": "https://localhost:8080/",
     "height": 101
    },
    "colab_type": "code",
    "id": "JNMZgBmn5Otb",
    "outputId": "da7802ec-464f-4e2a-86cd-79562bf86b5b"
   },
   "outputs": [
    {
     "data": {
      "text/plain": [
       "{'LR__C': 1,\n",
       " 'LR__penalty': 'l2',\n",
       " 'tfidf__max_df': 0.5,\n",
       " 'tfidf__min_df': 5,\n",
       " 'tfidf__ngram_range': (1, 1)}"
      ]
     },
     "execution_count": 904,
     "metadata": {
      "tags": []
     },
     "output_type": "execute_result"
    }
   ],
   "source": [
    "LR_TF.best_params_"
   ]
  },
  {
   "cell_type": "code",
   "execution_count": 905,
   "metadata": {
    "colab": {
     "base_uri": "https://localhost:8080/",
     "height": 50
    },
    "colab_type": "code",
    "id": "tDmm0VE6uNA1",
    "outputId": "905e86f9-f2e3-455c-e9bd-159172755f6d"
   },
   "outputs": [
    {
     "name": "stdout",
     "output_type": "stream",
     "text": [
      "Train score: 0.81\n",
      "Test score: 0.6960\n"
     ]
    }
   ],
   "source": [
    "print(\"Train score: {:.2f}\".format(LR_TF.score(X_train, y_train)))\n",
    "print(\"Test score: {:.4f}\".format(LR_TF.score(X_test, y_test)))"
   ]
  },
  {
   "cell_type": "code",
   "execution_count": 906,
   "metadata": {
    "colab": {},
    "colab_type": "code",
    "id": "tq2N5p3Kw3Wk"
   },
   "outputs": [],
   "source": [
    "y_pred = LR_TF.predict(X_test)"
   ]
  },
  {
   "cell_type": "code",
   "execution_count": 907,
   "metadata": {
    "colab": {
     "base_uri": "https://localhost:8080/",
     "height": 185
    },
    "colab_type": "code",
    "id": "gaPbCSQdxLTb",
    "outputId": "044f616b-f340-48c0-b078-fa0f61a78dfa"
   },
   "outputs": [
    {
     "name": "stdout",
     "output_type": "stream",
     "text": [
      "              precision    recall  f1-score   support\n",
      "\n",
      "          -1       0.82      0.95      0.88       475\n",
      "           0       0.63      0.48      0.54       134\n",
      "           1       0.84      0.55      0.67       123\n",
      "\n",
      "    accuracy                           0.80       732\n",
      "   macro avg       0.76      0.66      0.70       732\n",
      "weighted avg       0.79      0.80      0.78       732\n",
      "\n"
     ]
    }
   ],
   "source": [
    "from sklearn.metrics import classification_report\n",
    "print(classification_report(y_test,y_pred))"
   ]
  },
  {
   "cell_type": "markdown",
   "metadata": {
    "colab_type": "text",
    "id": "K25CeDEoxXsM"
   },
   "source": [
    "#### Logistic Regression - Count Vectorizer"
   ]
  },
  {
   "cell_type": "code",
   "execution_count": 47,
   "metadata": {
    "colab": {},
    "colab_type": "code",
    "id": "r8BCKjv2xaar"
   },
   "outputs": [],
   "source": [
    "pipe = Pipeline([('count',CountVectorizer()),\n",
    "                     ('LR',LogisticRegression(max_iter=10000,solver='lbfgs',multi_class='multinomial'))])\n",
    "\n",
    "param_grid = {'LR__C': [0.001, 0.01, 0.1, 1, 10],\n",
    "              'LR__penalty':['l1','l2'],\n",
    "              'count__max_df':[0.2,0.5,0.75,0.95],\n",
    "              'count__min_df':[0.1,0.5,1],\n",
    "              'count__ngram_range':[(1,1),(1,2),(2,2)]}"
   ]
  },
  {
   "cell_type": "code",
   "execution_count": 48,
   "metadata": {
    "colab": {},
    "colab_type": "code",
    "id": "MDdqc9BDxh4o"
   },
   "outputs": [],
   "source": [
    "LR_CV = GridSearchCV(pipe, param_grid, cv=5,n_jobs=-1,scoring=\"f1_macro\")"
   ]
  },
  {
   "cell_type": "code",
   "execution_count": 49,
   "metadata": {
    "colab": {
     "base_uri": "https://localhost:8080/",
     "height": 34
    },
    "colab_type": "code",
    "id": "Y-i4xYj2xn-y",
    "outputId": "a4cb1519-43be-4826-ada7-fc439ffab61b"
   },
   "outputs": [
    {
     "name": "stdout",
     "output_type": "stream",
     "text": [
      "Best cross-validation score: 0.7360\n"
     ]
    }
   ],
   "source": [
    "LR_CV.fit(X_train, y_train)\n",
    "print(\"Best cross-validation score: {:.4f}\".format(LR_CV.best_score_))"
   ]
  },
  {
   "cell_type": "code",
   "execution_count": 50,
   "metadata": {
    "colab": {
     "base_uri": "https://localhost:8080/",
     "height": 101
    },
    "colab_type": "code",
    "id": "ObdigD195DkS",
    "outputId": "8f5597b7-83eb-4a2f-c80d-1007d9660f39"
   },
   "outputs": [
    {
     "data": {
      "text/plain": [
       "{'LR__C': 1,\n",
       " 'LR__penalty': 'l2',\n",
       " 'count__max_df': 0.5,\n",
       " 'count__min_df': 1,\n",
       " 'count__ngram_range': (1, 2)}"
      ]
     },
     "execution_count": 50,
     "metadata": {},
     "output_type": "execute_result"
    }
   ],
   "source": [
    "LR_CV.best_params_"
   ]
  },
  {
   "cell_type": "code",
   "execution_count": 51,
   "metadata": {
    "colab": {
     "base_uri": "https://localhost:8080/",
     "height": 50
    },
    "colab_type": "code",
    "id": "8jYsQEAhxsnM",
    "outputId": "747c4b60-b2c8-4120-e615-830def0f0ea6"
   },
   "outputs": [
    {
     "name": "stdout",
     "output_type": "stream",
     "text": [
      "Train score: 0.99\n",
      "Test score: 0.7306\n"
     ]
    }
   ],
   "source": [
    "print(\"Train score: {:.2f}\".format(LR_CV.score(X_train, y_train)))\n",
    "print(\"Test score: {:.4f}\".format(LR_CV.score(X_test, y_test)))"
   ]
  },
  {
   "cell_type": "code",
   "execution_count": 52,
   "metadata": {
    "colab": {
     "base_uri": "https://localhost:8080/",
     "height": 185
    },
    "colab_type": "code",
    "id": "cPfhlxCXyjP-",
    "outputId": "afc077c8-f118-41f5-ab00-5e12b8951db4"
   },
   "outputs": [
    {
     "name": "stdout",
     "output_type": "stream",
     "text": [
      "              precision    recall  f1-score   support\n",
      "\n",
      "          -1       0.86      0.93      0.89       475\n",
      "           0       0.62      0.55      0.58       134\n",
      "           1       0.81      0.64      0.72       123\n",
      "\n",
      "    accuracy                           0.81       732\n",
      "   macro avg       0.76      0.71      0.73       732\n",
      "weighted avg       0.81      0.81      0.81       732\n",
      "\n"
     ]
    }
   ],
   "source": [
    "y_pred = LR_CV.predict(X_test)\n",
    "print(classification_report(y_test,y_pred))"
   ]
  },
  {
   "cell_type": "code",
   "execution_count": 900,
   "metadata": {
    "colab": {},
    "colab_type": "code",
    "id": "TjQwt2lFvMBA"
   },
   "outputs": [],
   "source": [
    "y_predt = LR_CV.predict(test['text'])\n",
    "test['target']=y_predt\n",
    "test.to_csv('FinalSubmission_withstopwords.csv',index=False)"
   ]
  },
  {
   "cell_type": "markdown",
   "metadata": {
    "colab_type": "text",
    "id": "VFE8TEo50m9j"
   },
   "source": [
    "#### Logistic Regression - Hash Vectorizer"
   ]
  },
  {
   "cell_type": "code",
   "execution_count": 212,
   "metadata": {
    "colab": {},
    "colab_type": "code",
    "id": "o1X8YzWn0rG6"
   },
   "outputs": [],
   "source": [
    "from sklearn.feature_extraction.text import HashingVectorizer\n",
    "\n",
    "pipe = Pipeline([('hash',HashingVectorizer(n_features=10000)),\n",
    "                     ('LR',LogisticRegression(max_iter=10000,solver='lbfgs',multi_class='multinomial'))])\n",
    "\n",
    "param_grid = {'LR__C': [0.001, 0.01, 0.1, 1, 10],\n",
    "              'hash__ngram_range':[(1,1),(1,2),(2,2)]}"
   ]
  },
  {
   "cell_type": "code",
   "execution_count": 213,
   "metadata": {
    "colab": {},
    "colab_type": "code",
    "id": "5Ge6GM9c11SL"
   },
   "outputs": [],
   "source": [
    "LR_HV = GridSearchCV(pipe, param_grid, cv=5,n_jobs=-1,scoring=\"f1_macro\")"
   ]
  },
  {
   "cell_type": "code",
   "execution_count": 214,
   "metadata": {
    "colab": {
     "base_uri": "https://localhost:8080/",
     "height": 34
    },
    "colab_type": "code",
    "id": "Jc51uGIK133c",
    "outputId": "58f86bd5-5e35-4f24-d265-ce8897271063"
   },
   "outputs": [
    {
     "name": "stdout",
     "output_type": "stream",
     "text": [
      "Best cross-validation score: 0.68\n"
     ]
    }
   ],
   "source": [
    "LR_HV.fit(X_train, y_train)\n",
    "print(\"Best cross-validation score: {:.2f}\".format(LR_HV.best_score_))"
   ]
  },
  {
   "cell_type": "code",
   "execution_count": 215,
   "metadata": {
    "colab": {
     "base_uri": "https://localhost:8080/",
     "height": 34
    },
    "colab_type": "code",
    "id": "EUAdAYpa58xH",
    "outputId": "ac6160a9-31c7-476d-d146-299ba1f56552"
   },
   "outputs": [
    {
     "data": {
      "text/plain": [
       "{'LR__C': 10, 'hash__ngram_range': (1, 1)}"
      ]
     },
     "execution_count": 215,
     "metadata": {
      "tags": []
     },
     "output_type": "execute_result"
    }
   ],
   "source": [
    "LR_HV.best_params_"
   ]
  },
  {
   "cell_type": "code",
   "execution_count": 216,
   "metadata": {
    "colab": {
     "base_uri": "https://localhost:8080/",
     "height": 50
    },
    "colab_type": "code",
    "id": "zcNB4s-814AP",
    "outputId": "0cd4b87f-5b97-4719-9c93-36a4c4ab5f2a"
   },
   "outputs": [
    {
     "name": "stdout",
     "output_type": "stream",
     "text": [
      "Train score: 0.91\n",
      "Test score: 0.6707\n"
     ]
    }
   ],
   "source": [
    "print(\"Train score: {:.2f}\".format(LR_HV.score(X_train, y_train)))\n",
    "print(\"Test score: {:.4f}\".format(LR_HV.score(X_test, y_test)))"
   ]
  },
  {
   "cell_type": "code",
   "execution_count": 217,
   "metadata": {
    "colab": {
     "base_uri": "https://localhost:8080/",
     "height": 185
    },
    "colab_type": "code",
    "id": "v-ydYPm614OX",
    "outputId": "5a24f4d7-6b5f-4fbf-997f-27900b1a7c27"
   },
   "outputs": [
    {
     "name": "stdout",
     "output_type": "stream",
     "text": [
      "              precision    recall  f1-score   support\n",
      "\n",
      "          -1       0.83      0.89      0.86       475\n",
      "           0       0.53      0.49      0.51       134\n",
      "           1       0.71      0.59      0.64       123\n",
      "\n",
      "    accuracy                           0.77       732\n",
      "   macro avg       0.69      0.66      0.67       732\n",
      "weighted avg       0.76      0.77      0.76       732\n",
      "\n"
     ]
    }
   ],
   "source": [
    "y_pred = LR_HV.predict(X_test)\n",
    "print(classification_report(y_test,y_pred))"
   ]
  },
  {
   "cell_type": "markdown",
   "metadata": {
    "colab_type": "text",
    "id": "vQkqz5E3yvVn"
   },
   "source": [
    "#### Naive Bayes - TFIDF Vectorizer"
   ]
  },
  {
   "cell_type": "code",
   "execution_count": 218,
   "metadata": {
    "colab": {},
    "colab_type": "code",
    "id": "SYjmY5nWyx-5"
   },
   "outputs": [],
   "source": [
    "pipe = Pipeline([('tfidf',TfidfVectorizer()),\n",
    "                     ('NB',MultinomialNB(fit_prior=True, class_prior=None))])\n",
    "\n",
    "param_grid = {'NB__alpha': [0.1,0.25,0.5,0.75],\n",
    "              'tfidf__max_df':[0.2,0.5,0.7,0.9],\n",
    "              'tfidf__min_df':[0.1,1,2,5],\n",
    "              'tfidf__ngram_range':[(1,1),(1,2),(2,2)]}"
   ]
  },
  {
   "cell_type": "code",
   "execution_count": 219,
   "metadata": {
    "colab": {},
    "colab_type": "code",
    "id": "-nzcwaGtz9pd"
   },
   "outputs": [],
   "source": [
    "NB_TF = GridSearchCV(pipe, param_grid, cv=5,n_jobs=-1,scoring=\"f1_macro\")"
   ]
  },
  {
   "cell_type": "code",
   "execution_count": 220,
   "metadata": {
    "colab": {
     "base_uri": "https://localhost:8080/",
     "height": 34
    },
    "colab_type": "code",
    "id": "Lld6HCLz0CQ5",
    "outputId": "e153cae6-ce07-402d-ff01-07cbe15a9b63"
   },
   "outputs": [
    {
     "name": "stdout",
     "output_type": "stream",
     "text": [
      "Best cross-validation score: 0.62\n"
     ]
    }
   ],
   "source": [
    "NB_TF.fit(X_train, y_train)\n",
    "print(\"Best cross-validation score: {:.2f}\".format(NB_TF.best_score_))"
   ]
  },
  {
   "cell_type": "code",
   "execution_count": 221,
   "metadata": {
    "colab": {
     "base_uri": "https://localhost:8080/",
     "height": 50
    },
    "colab_type": "code",
    "id": "vpDP02rZ0GSt",
    "outputId": "30b93828-3924-434b-dd83-b93a23dfed8d"
   },
   "outputs": [
    {
     "name": "stdout",
     "output_type": "stream",
     "text": [
      "Train score: 0.86\n",
      "Test score: 0.63\n"
     ]
    }
   ],
   "source": [
    "print(\"Train score: {:.2f}\".format(NB_TF.score(X_train, y_train)))\n",
    "print(\"Test score: {:.2f}\".format(NB_TF.score(X_test, y_test)))"
   ]
  },
  {
   "cell_type": "code",
   "execution_count": 222,
   "metadata": {
    "colab": {
     "base_uri": "https://localhost:8080/",
     "height": 185
    },
    "colab_type": "code",
    "id": "bvyjQlYE0Ma6",
    "outputId": "8e6cba17-48dc-40eb-be58-f8e946774fa7"
   },
   "outputs": [
    {
     "name": "stdout",
     "output_type": "stream",
     "text": [
      "              precision    recall  f1-score   support\n",
      "\n",
      "          -1       0.78      0.94      0.85       475\n",
      "           0       0.55      0.32      0.41       134\n",
      "           1       0.80      0.52      0.63       123\n",
      "\n",
      "    accuracy                           0.76       732\n",
      "   macro avg       0.71      0.59      0.63       732\n",
      "weighted avg       0.74      0.76      0.73       732\n",
      "\n"
     ]
    }
   ],
   "source": [
    "y_pred = NB_TF.predict(X_test)\n",
    "print(classification_report(y_test,y_pred))"
   ]
  },
  {
   "cell_type": "markdown",
   "metadata": {
    "colab_type": "text",
    "id": "TOfamOGA0uNK"
   },
   "source": [
    "#### Naive Bayes - Count Vectorizer"
   ]
  },
  {
   "cell_type": "code",
   "execution_count": 223,
   "metadata": {
    "colab": {},
    "colab_type": "code",
    "id": "0ugB9rpl0wli"
   },
   "outputs": [],
   "source": [
    "pipe = Pipeline([('count',CountVectorizer()),\n",
    "                     ('NB',MultinomialNB(fit_prior=True, class_prior=None))])\n",
    "\n",
    "param_grid = {'NB__alpha': [0,0.001,0.1,0.5,0.7,1],\n",
    "              'count__max_df':[0.2,0.5,0.7,0.9],\n",
    "              'count__min_df':[0.1,0.5,1,2],\n",
    "              'count__ngram_range':[(1,1),(1,2),(2,2)]}"
   ]
  },
  {
   "cell_type": "code",
   "execution_count": 224,
   "metadata": {
    "colab": {},
    "colab_type": "code",
    "id": "FvyfGpTW04pP"
   },
   "outputs": [],
   "source": [
    "NB_CV = GridSearchCV(pipe, param_grid, cv=5,n_jobs=-1,scoring=\"f1_macro\")"
   ]
  },
  {
   "cell_type": "code",
   "execution_count": 225,
   "metadata": {
    "colab": {
     "base_uri": "https://localhost:8080/",
     "height": 34
    },
    "colab_type": "code",
    "id": "9WhgXQTY083V",
    "outputId": "26d99e79-8e8c-434f-a31b-5607d9e9232d"
   },
   "outputs": [
    {
     "name": "stdout",
     "output_type": "stream",
     "text": [
      "Best cross-validation score: 0.67\n"
     ]
    }
   ],
   "source": [
    "NB_CV.fit(X_train, y_train)\n",
    "print(\"Best cross-validation score: {:.2f}\".format(NB_CV.best_score_))"
   ]
  },
  {
   "cell_type": "code",
   "execution_count": 226,
   "metadata": {
    "colab": {
     "base_uri": "https://localhost:8080/",
     "height": 50
    },
    "colab_type": "code",
    "id": "6MGVJmSI1AWN",
    "outputId": "b08cba40-7891-489b-9978-794e0ba8ae02"
   },
   "outputs": [
    {
     "name": "stdout",
     "output_type": "stream",
     "text": [
      "Train score: 0.79\n",
      "Test score: 0.68\n"
     ]
    }
   ],
   "source": [
    "print(\"Train score: {:.2f}\".format(NB_CV.score(X_train, y_train)))\n",
    "print(\"Test score: {:.2f}\".format(NB_CV.score(X_test, y_test)))"
   ]
  },
  {
   "cell_type": "code",
   "execution_count": 227,
   "metadata": {
    "colab": {
     "base_uri": "https://localhost:8080/",
     "height": 185
    },
    "colab_type": "code",
    "id": "lAenfwUB1CXs",
    "outputId": "b8b1a701-76e5-413c-f4f2-6657a9c58c59"
   },
   "outputs": [
    {
     "name": "stdout",
     "output_type": "stream",
     "text": [
      "              precision    recall  f1-score   support\n",
      "\n",
      "          -1       0.83      0.88      0.85       475\n",
      "           0       0.54      0.44      0.49       134\n",
      "           1       0.72      0.67      0.70       123\n",
      "\n",
      "    accuracy                           0.77       732\n",
      "   macro avg       0.70      0.67      0.68       732\n",
      "weighted avg       0.76      0.77      0.76       732\n",
      "\n"
     ]
    }
   ],
   "source": [
    "y_pred = NB_CV.predict(X_test)\n",
    "print(classification_report(y_test,y_pred))"
   ]
  },
  {
   "cell_type": "code",
   "execution_count": 500,
   "metadata": {
    "colab": {},
    "colab_type": "code",
    "id": "0QdwfP1rwcaa"
   },
   "outputs": [],
   "source": [
    "y_predt = NB_CV.predict(test['text'])\n",
    "test['target']=y_predt\n",
    "test.to_csv('predictionNB_CV5.csv',index=False)"
   ]
  },
  {
   "cell_type": "markdown",
   "metadata": {
    "colab_type": "text",
    "id": "RuEwRtlM6I1L"
   },
   "source": [
    "#### Naive Bayes - Hash Vectorizer"
   ]
  },
  {
   "cell_type": "code",
   "execution_count": 228,
   "metadata": {
    "colab": {},
    "colab_type": "code",
    "id": "CRudRSlD6MS_"
   },
   "outputs": [],
   "source": [
    "pipe = Pipeline([('hash',HashingVectorizer(n_features=10000,alternate_sign=False)),\n",
    "                     ('NB',MultinomialNB(fit_prior=True, class_prior=None))])\n",
    "\n",
    "param_grid = {'NB__alpha': [0.001,0.1,0.5,0.7,1],\n",
    "              'hash__ngram_range':[(1,1),(1,2),(2,2)]}"
   ]
  },
  {
   "cell_type": "code",
   "execution_count": 229,
   "metadata": {
    "colab": {},
    "colab_type": "code",
    "id": "l3nbfadV6MWF"
   },
   "outputs": [],
   "source": [
    "NB_HV = GridSearchCV(pipe, param_grid, cv=5,n_jobs=-1,scoring=\"f1_macro\")"
   ]
  },
  {
   "cell_type": "code",
   "execution_count": 230,
   "metadata": {
    "colab": {
     "base_uri": "https://localhost:8080/",
     "height": 34
    },
    "colab_type": "code",
    "id": "hpH_bqfw6Mbp",
    "outputId": "55459ee7-a945-4724-8eed-e604511098d4"
   },
   "outputs": [
    {
     "name": "stdout",
     "output_type": "stream",
     "text": [
      "Best cross-validation score: 0.59\n"
     ]
    }
   ],
   "source": [
    "NB_HV.fit(X_train, y_train)\n",
    "print(\"Best cross-validation score: {:.2f}\".format(NB_HV.best_score_))"
   ]
  },
  {
   "cell_type": "code",
   "execution_count": 231,
   "metadata": {
    "colab": {
     "base_uri": "https://localhost:8080/",
     "height": 34
    },
    "colab_type": "code",
    "id": "J6SjPrhd6MQa",
    "outputId": "f569964a-c52d-426e-9344-2eae4b6cbb02"
   },
   "outputs": [
    {
     "data": {
      "text/plain": [
       "{'NB__alpha': 0.001, 'hash__ngram_range': (1, 1)}"
      ]
     },
     "execution_count": 231,
     "metadata": {
      "tags": []
     },
     "output_type": "execute_result"
    }
   ],
   "source": [
    "NB_HV.best_params_"
   ]
  },
  {
   "cell_type": "code",
   "execution_count": 232,
   "metadata": {
    "colab": {
     "base_uri": "https://localhost:8080/",
     "height": 50
    },
    "colab_type": "code",
    "id": "dQ_hCKGU6MOA",
    "outputId": "fc7d4d82-b60a-44c6-803f-b36a9306ba1d"
   },
   "outputs": [
    {
     "name": "stdout",
     "output_type": "stream",
     "text": [
      "Train score: 0.83\n",
      "Test score: 0.5811\n"
     ]
    }
   ],
   "source": [
    "print(\"Train score: {:.2f}\".format(NB_HV.score(X_train, y_train)))\n",
    "print(\"Test score: {:.4f}\".format(NB_HV.score(X_test, y_test)))"
   ]
  },
  {
   "cell_type": "code",
   "execution_count": 233,
   "metadata": {
    "colab": {
     "base_uri": "https://localhost:8080/",
     "height": 185
    },
    "colab_type": "code",
    "id": "Pp6n6b9760Vr",
    "outputId": "432e1476-d68a-40a8-fe0d-e078b8d477d7"
   },
   "outputs": [
    {
     "name": "stdout",
     "output_type": "stream",
     "text": [
      "              precision    recall  f1-score   support\n",
      "\n",
      "          -1       0.76      0.92      0.83       475\n",
      "           0       0.52      0.34      0.41       134\n",
      "           1       0.68      0.39      0.49       123\n",
      "\n",
      "    accuracy                           0.73       732\n",
      "   macro avg       0.65      0.55      0.58       732\n",
      "weighted avg       0.70      0.73      0.70       732\n",
      "\n"
     ]
    }
   ],
   "source": [
    "y_pred = NB_HV.predict(X_test)\n",
    "print(classification_report(y_test,y_pred))"
   ]
  },
  {
   "cell_type": "markdown",
   "metadata": {
    "colab_type": "text",
    "id": "EnwWi8z21dKf"
   },
   "source": [
    "#### XGBoost - TFIDF Vectorizer"
   ]
  },
  {
   "cell_type": "code",
   "execution_count": 663,
   "metadata": {
    "colab": {},
    "colab_type": "code",
    "id": "1gr7MPL91fal"
   },
   "outputs": [],
   "source": [
    "from xgboost import XGBClassifier\n",
    "pipe = Pipeline([('tfidf',TfidfVectorizer()),\n",
    "                     ('XGB',XGBClassifier(objective='multi:softmax',seed=0))])\n",
    "\n",
    "param_grid = {'XGB__learning_rate':[0.01,0.1,0.5,1],\n",
    "              'XGB__max_depth':[2,3,5,7],\n",
    "              'tfidf__max_df':[0.2,0.5,0.9],\n",
    "              'tfidf__min_df':[1,2],\n",
    "              'tfidf__ngram_range':[(1,1),(1,2),(2,2)]}"
   ]
  },
  {
   "cell_type": "code",
   "execution_count": 666,
   "metadata": {
    "colab": {},
    "colab_type": "code",
    "id": "2oy_V-O03msS"
   },
   "outputs": [],
   "source": [
    "XGB_TF = GridSearchCV(pipe, param_grid, cv=5,n_jobs=-1,scoring=\"f1_macro\")"
   ]
  },
  {
   "cell_type": "code",
   "execution_count": 667,
   "metadata": {
    "colab": {
     "base_uri": "https://localhost:8080/",
     "height": 34
    },
    "colab_type": "code",
    "id": "G7-brvWm3rs8",
    "outputId": "634f1f1f-e2c2-402a-ce89-0b6c9263efbf"
   },
   "outputs": [
    {
     "name": "stdout",
     "output_type": "stream",
     "text": [
      "Best cross-validation score: 0.67\n"
     ]
    }
   ],
   "source": [
    "XGB_TF.fit(X_train, y_train)\n",
    "print(\"Best cross-validation score: {:.2f}\".format(XGB_TF.best_score_))"
   ]
  },
  {
   "cell_type": "code",
   "execution_count": 668,
   "metadata": {
    "colab": {
     "base_uri": "https://localhost:8080/",
     "height": 101
    },
    "colab_type": "code",
    "id": "5fhpqrJ47wr5",
    "outputId": "05900d72-8cfa-4890-d200-97d65d863307"
   },
   "outputs": [
    {
     "data": {
      "text/plain": [
       "{'XGB__learning_rate': 0.5,\n",
       " 'XGB__max_depth': 7,\n",
       " 'tfidf__max_df': 0.5,\n",
       " 'tfidf__min_df': 1,\n",
       " 'tfidf__ngram_range': (1, 1)}"
      ]
     },
     "execution_count": 668,
     "metadata": {
      "tags": []
     },
     "output_type": "execute_result"
    }
   ],
   "source": [
    "XGB_TF.best_params_"
   ]
  },
  {
   "cell_type": "code",
   "execution_count": 669,
   "metadata": {
    "colab": {
     "base_uri": "https://localhost:8080/",
     "height": 50
    },
    "colab_type": "code",
    "id": "xh0q0acJ3vm_",
    "outputId": "e4a83b02-08e7-41e6-915e-b2e6092095c9"
   },
   "outputs": [
    {
     "name": "stdout",
     "output_type": "stream",
     "text": [
      "Train score: 0.92\n",
      "Test score: 0.66\n"
     ]
    }
   ],
   "source": [
    "print(\"Train score: {:.2f}\".format(XGB_TF.score(X_train, y_train)))\n",
    "print(\"Test score: {:.2f}\".format(XGB_TF.score(X_test, y_test)))"
   ]
  },
  {
   "cell_type": "code",
   "execution_count": 670,
   "metadata": {
    "colab": {
     "base_uri": "https://localhost:8080/",
     "height": 185
    },
    "colab_type": "code",
    "id": "Bqj7_9hV35ww",
    "outputId": "3b91b034-b853-4ffa-cd69-1dda7716c8d7"
   },
   "outputs": [
    {
     "name": "stdout",
     "output_type": "stream",
     "text": [
      "              precision    recall  f1-score   support\n",
      "\n",
      "          -1       0.79      0.87      0.83      1370\n",
      "           0       0.54      0.45      0.49       461\n",
      "           1       0.71      0.59      0.65       365\n",
      "\n",
      "    accuracy                           0.74      2196\n",
      "   macro avg       0.68      0.64      0.66      2196\n",
      "weighted avg       0.73      0.74      0.73      2196\n",
      "\n"
     ]
    }
   ],
   "source": [
    "y_pred = XGB_TF.predict(X_test)\n",
    "print(classification_report(y_test,y_pred))"
   ]
  },
  {
   "cell_type": "markdown",
   "metadata": {
    "colab_type": "text",
    "id": "_DasPwI35bvF"
   },
   "source": [
    "#### XGBoost - Count Vectorizer"
   ]
  },
  {
   "cell_type": "code",
   "execution_count": 48,
   "metadata": {
    "colab": {},
    "colab_type": "code",
    "id": "hgf6D68p5e0z"
   },
   "outputs": [],
   "source": [
    "from xgboost import XGBClassifier\n",
    "pipe = Pipeline([('count',CountVectorizer()),\n",
    "                     ('XGB',XGBClassifier())])\n",
    "\n",
    "param_grid = {'XGB__learning_rate':[0.01,0.1,0.5,1],\n",
    "              'XGB__max_depth':[2,3,5,7],\n",
    "              'count__max_df':[0.2,0.5,0.7,0.9],\n",
    "              'count__min_df':[1,2],\n",
    "              'count__ngram_range':[(1,1),(1,2),(2,2)]}"
   ]
  },
  {
   "cell_type": "code",
   "execution_count": 49,
   "metadata": {
    "colab": {},
    "colab_type": "code",
    "id": "eHFW9RKb5mGD"
   },
   "outputs": [],
   "source": [
    "XGB_CV = GridSearchCV(pipe, param_grid, cv=5,n_jobs=-1,scoring=\"f1_macro\")"
   ]
  },
  {
   "cell_type": "code",
   "execution_count": 50,
   "metadata": {
    "colab": {
     "base_uri": "https://localhost:8080/",
     "height": 34
    },
    "colab_type": "code",
    "id": "J0_A97mf5pnN",
    "outputId": "a0bf8548-cc92-429b-c41d-728dc6219c1a"
   },
   "outputs": [
    {
     "name": "stdout",
     "output_type": "stream",
     "text": [
      "Best cross-validation score: 0.68\n"
     ]
    }
   ],
   "source": [
    "XGB_CV.fit(X_train, y_train)\n",
    "print(\"Best cross-validation score: {:.2f}\".format(XGB_CV.best_score_))"
   ]
  },
  {
   "cell_type": "code",
   "execution_count": 51,
   "metadata": {
    "colab": {
     "base_uri": "https://localhost:8080/",
     "height": 101
    },
    "colab_type": "code",
    "id": "GA6sNeqQ7z_X",
    "outputId": "c59a980d-b277-4e54-d792-466ba6ff61db"
   },
   "outputs": [
    {
     "data": {
      "text/plain": [
       "{'XGB__learning_rate': 1,\n",
       " 'XGB__max_depth': 5,\n",
       " 'count__max_df': 0.2,\n",
       " 'count__min_df': 1,\n",
       " 'count__ngram_range': (1, 2)}"
      ]
     },
     "execution_count": 51,
     "metadata": {
      "tags": []
     },
     "output_type": "execute_result"
    }
   ],
   "source": [
    "XGB_CV.best_params_"
   ]
  },
  {
   "cell_type": "code",
   "execution_count": 52,
   "metadata": {
    "colab": {
     "base_uri": "https://localhost:8080/",
     "height": 50
    },
    "colab_type": "code",
    "id": "-iSSC8Y95wAm",
    "outputId": "20aec3d1-bc9e-43d5-b71c-07c459d77398"
   },
   "outputs": [
    {
     "name": "stdout",
     "output_type": "stream",
     "text": [
      "Train score: 0.86\n",
      "Test score: 0.67\n"
     ]
    }
   ],
   "source": [
    "print(\"Train score: {:.2f}\".format(XGB_CV.score(X_train, y_train)))\n",
    "print(\"Test score: {:.2f}\".format(XGB_CV.score(X_test, y_test)))"
   ]
  },
  {
   "cell_type": "code",
   "execution_count": 55,
   "metadata": {
    "colab": {
     "base_uri": "https://localhost:8080/",
     "height": 185
    },
    "colab_type": "code",
    "id": "Z4vx76eT50q4",
    "outputId": "f7485b39-96b7-4198-b29d-1ca8e4b5704d"
   },
   "outputs": [
    {
     "name": "stdout",
     "output_type": "stream",
     "text": [
      "              precision    recall  f1-score   support\n",
      "\n",
      "          -1       0.80      0.86      0.83      1370\n",
      "           0       0.56      0.46      0.51       461\n",
      "           1       0.71      0.63      0.67       365\n",
      "\n",
      "    accuracy                           0.74      2196\n",
      "   macro avg       0.69      0.65      0.67      2196\n",
      "weighted avg       0.73      0.74      0.73      2196\n",
      "\n"
     ]
    }
   ],
   "source": [
    "y_pred = XGB_CV.predict(X_test)\n",
    "print(classification_report(y_test,y_pred))"
   ]
  },
  {
   "cell_type": "markdown",
   "metadata": {
    "colab_type": "text",
    "id": "QOQi-hvkGaFE"
   },
   "source": [
    "### Choosing the final model"
   ]
  },
  {
   "cell_type": "markdown",
   "metadata": {
    "colab_type": "text",
    "id": "f6L6cL3AVsp8"
   },
   "source": [
    "#### The best model suitable for this dataset will be with\n",
    "1. Keeping Stopwords\n",
    "2. Using Porter stemmer\n",
    "3. Using Count Vectorizer with best max_df = 0.5 ,min_df = 1 and ngram_range =(1,2) \n",
    "4. Using Logistic regression model with best parameters as C=1 and penalty =l2"
   ]
  },
  {
   "cell_type": "markdown",
   "metadata": {
    "colab_type": "text",
    "id": "CnZXBlMwWaZx"
   },
   "source": [
    "#### Although the final model overfits the dataset, the F1 score for each class is the highest with this model and the cross validation score for the overall  model is the highest ,hence I have chosen this model."
   ]
  },
  {
   "cell_type": "code",
   "execution_count": 56,
   "metadata": {
    "colab": {},
    "colab_type": "code",
    "id": "uTeFbnY0XcXG"
   },
   "outputs": [],
   "source": [
    "# Making final predictions\n",
    "y_predt = LR_CV.predict(test['text'])\n",
    "test['target']=y_predt\n",
    "test.drop(columns='text',inplace = True)\n",
    "test.to_csv('FinalSubmission.csv',index=False)"
   ]
  }
 ],
 "metadata": {
  "colab": {
   "collapsed_sections": [
    "VFE8TEo50m9j",
    "vQkqz5E3yvVn",
    "TOfamOGA0uNK",
    "RuEwRtlM6I1L",
    "EnwWi8z21dKf",
    "_DasPwI35bvF"
   ],
   "name": "HW1.ipynb",
   "provenance": []
  },
  "kernelspec": {
   "display_name": "Python 3",
   "language": "python",
   "name": "python3"
  },
  "language_info": {
   "codemirror_mode": {
    "name": "ipython",
    "version": 3
   },
   "file_extension": ".py",
   "mimetype": "text/x-python",
   "name": "python",
   "nbconvert_exporter": "python",
   "pygments_lexer": "ipython3",
   "version": "3.7.8"
  }
 },
 "nbformat": 4,
 "nbformat_minor": 1
}
